{
  "cells": [
    {
      "cell_type": "markdown",
      "metadata": {},
      "source": [
        "## Num of shares calculator based on market cap "
      ]
    },
    {
      "cell_type": "markdown",
      "metadata": {},
      "source": [
        "##### Larger market cap = more weight in portfolio"
      ]
    },
    {
      "cell_type": "markdown",
      "metadata": {},
      "source": [
        "### Import Libraries"
      ]
    },
    {
      "cell_type": "code",
      "execution_count": 44,
      "metadata": {
        "colab": {
          "base_uri": "https://localhost:8080/"
        },
        "id": "HKCEUfSrGDuY",
        "outputId": "360c7f57-0886-4f71-da0a-046b9f7bc7ca"
      },
      "outputs": [],
      "source": [
        "import pandas as pd\n",
        "from datetime import datetime, timedelta\n",
        "import yfinance as yf\n",
        "import seaborn as sns\n",
        "import matplotlib.pyplot as plt"
      ]
    },
    {
      "cell_type": "markdown",
      "metadata": {},
      "source": [
        "### Get Market Cap for select stocks"
      ]
    },
    {
      "cell_type": "code",
      "execution_count": 45,
      "metadata": {},
      "outputs": [],
      "source": [
        "# Function to extract market cap for the selected tickers\n",
        "def get_market_cap(df, tickers):\n",
        "    market_caps = {}\n",
        "    magnitudes = { \n",
        "        'T': 1, # Trillions\n",
        "        'B': 1000, # Billions\n",
        "        'M': 1000*1000  # Millions\n",
        "    }\n",
        "    for ticker in tickers:\n",
        "        info = df[df['Symbol'].str.contains(ticker)]\n",
        "        if not info.empty:\n",
        "            info = info.iloc[0]['Market cap'].split('\\u202f') # splitting by narrow no-break space\n",
        "            magnitude = magnitudes[info[1][0]] \n",
        "            market_caps[ticker] = float(info[0]) / magnitude \n",
        "        else:\n",
        "            market_caps[ticker] = 0 # If ticker is not found in the data frame\n",
        "    return market_caps"
      ]
    },
    {
      "cell_type": "code",
      "execution_count": 46,
      "metadata": {
        "id": "GMAVTuPnVZkG"
      },
      "outputs": [
        {
          "data": {
            "text/html": [
              "<div>\n",
              "<style scoped>\n",
              "    .dataframe tbody tr th:only-of-type {\n",
              "        vertical-align: middle;\n",
              "    }\n",
              "\n",
              "    .dataframe tbody tr th {\n",
              "        vertical-align: top;\n",
              "    }\n",
              "\n",
              "    .dataframe thead th {\n",
              "        text-align: right;\n",
              "    }\n",
              "</style>\n",
              "<table border=\"1\" class=\"dataframe\">\n",
              "  <thead>\n",
              "    <tr style=\"text-align: right;\">\n",
              "      <th></th>\n",
              "      <th>Symbol</th>\n",
              "      <th>Market cap</th>\n",
              "      <th>Price</th>\n",
              "      <th>Change %</th>\n",
              "      <th>Volume</th>\n",
              "      <th>Rel Volume</th>\n",
              "      <th>P/E</th>\n",
              "      <th>EPS dilTTM</th>\n",
              "      <th>EPS dil growthTTM YoY</th>\n",
              "      <th>Div yield %TTM</th>\n",
              "      <th>Sector</th>\n",
              "      <th>Analyst Rating</th>\n",
              "    </tr>\n",
              "  </thead>\n",
              "  <tbody>\n",
              "    <tr>\n",
              "      <th>0</th>\n",
              "      <td>AAPLApple Inc.</td>\n",
              "      <td>3.352 T USD</td>\n",
              "      <td>220.49 USD</td>\n",
              "      <td>−1.02%</td>\n",
              "      <td>28.765 M</td>\n",
              "      <td>0.71</td>\n",
              "      <td>33.57</td>\n",
              "      <td>6.57 USD</td>\n",
              "      <td>+10.38%</td>\n",
              "      <td>0.44%</td>\n",
              "      <td>Electronic technology</td>\n",
              "      <td>Buy</td>\n",
              "    </tr>\n",
              "    <tr>\n",
              "      <th>1</th>\n",
              "      <td>MSFTMicrosoft Corporation</td>\n",
              "      <td>3.04 T USD</td>\n",
              "      <td>408.98 USD</td>\n",
              "      <td>−0.11%</td>\n",
              "      <td>8.947 M</td>\n",
              "      <td>0.52</td>\n",
              "      <td>34.66</td>\n",
              "      <td>11.80 USD</td>\n",
              "      <td>+21.86%</td>\n",
              "      <td>0.73%</td>\n",
              "      <td>Technology services</td>\n",
              "      <td>Strong buy</td>\n",
              "    </tr>\n",
              "    <tr>\n",
              "      <th>2</th>\n",
              "      <td>NVDANVIDIA Corporation</td>\n",
              "      <td>2.648 T USD</td>\n",
              "      <td>107.94 USD</td>\n",
              "      <td>−0.06%</td>\n",
              "      <td>272.462 M</td>\n",
              "      <td>0.76</td>\n",
              "      <td>50.68</td>\n",
              "      <td>2.13 USD</td>\n",
              "      <td>+414.47%</td>\n",
              "      <td>0.02%</td>\n",
              "      <td>Electronic technology</td>\n",
              "      <td>Strong buy</td>\n",
              "    </tr>\n",
              "    <tr>\n",
              "      <th>3</th>\n",
              "      <td>GOOGAlphabet Inc.</td>\n",
              "      <td>1.936 T USD</td>\n",
              "      <td>157.92 USD</td>\n",
              "      <td>−0.44%</td>\n",
              "      <td>10.445 M</td>\n",
              "      <td>0.64</td>\n",
              "      <td>22.65</td>\n",
              "      <td>6.97 USD</td>\n",
              "      <td>+47.48%</td>\n",
              "      <td>0.13%</td>\n",
              "      <td>Technology services</td>\n",
              "      <td>Buy</td>\n",
              "    </tr>\n",
              "    <tr>\n",
              "      <th>4</th>\n",
              "      <td>GOOGLAlphabet Inc.</td>\n",
              "      <td>1.933 T USD</td>\n",
              "      <td>156.47 USD</td>\n",
              "      <td>−0.57%</td>\n",
              "      <td>11.752 M</td>\n",
              "      <td>0.59</td>\n",
              "      <td>22.44</td>\n",
              "      <td>6.97 USD</td>\n",
              "      <td>+47.48%</td>\n",
              "      <td>0.13%</td>\n",
              "      <td>Technology services</td>\n",
              "      <td>Buy</td>\n",
              "    </tr>\n",
              "    <tr>\n",
              "      <th>5</th>\n",
              "      <td>AMZNAmazon.com, Inc.</td>\n",
              "      <td>1.816 T USD</td>\n",
              "      <td>173.02 USD</td>\n",
              "      <td>−1.83%</td>\n",
              "      <td>17.416 M</td>\n",
              "      <td>0.56</td>\n",
              "      <td>41.45</td>\n",
              "      <td>4.17 USD</td>\n",
              "      <td>+231.92%</td>\n",
              "      <td>0.00%</td>\n",
              "      <td>Retail trade</td>\n",
              "      <td>Strong buy</td>\n",
              "    </tr>\n",
              "    <tr>\n",
              "      <th>6</th>\n",
              "      <td>METAMeta Platforms, Inc.</td>\n",
              "      <td>1.3 T USD</td>\n",
              "      <td>513.74 USD</td>\n",
              "      <td>+0.39%</td>\n",
              "      <td>5.315 M</td>\n",
              "      <td>0.51</td>\n",
              "      <td>26.23</td>\n",
              "      <td>19.59 USD</td>\n",
              "      <td>+128.32%</td>\n",
              "      <td>0.20%</td>\n",
              "      <td>Technology services</td>\n",
              "      <td>Strong buy</td>\n",
              "    </tr>\n",
              "    <tr>\n",
              "      <th>7</th>\n",
              "      <td>BRK.BBerkshire Hathaway Inc. New</td>\n",
              "      <td>1.027 T USD</td>\n",
              "      <td>476.57 USD</td>\n",
              "      <td>−0.06%</td>\n",
              "      <td>3.162 M</td>\n",
              "      <td>0.72</td>\n",
              "      <td>15.16</td>\n",
              "      <td>31.44 USD</td>\n",
              "      <td>−21.04%</td>\n",
              "      <td>0.00%</td>\n",
              "      <td>Finance</td>\n",
              "      <td>Buy</td>\n",
              "    </tr>\n",
              "    <tr>\n",
              "      <th>8</th>\n",
              "      <td>LLYEli Lilly and Company</td>\n",
              "      <td>898.556 B USD</td>\n",
              "      <td>945.43 USD</td>\n",
              "      <td>−1.16%</td>\n",
              "      <td>1.015 M</td>\n",
              "      <td>0.38</td>\n",
              "      <td>118.10</td>\n",
              "      <td>8.01 USD</td>\n",
              "      <td>+12.95%</td>\n",
              "      <td>0.53%</td>\n",
              "      <td>Health technology</td>\n",
              "      <td>Buy</td>\n",
              "    </tr>\n",
              "    <tr>\n",
              "      <th>9</th>\n",
              "      <td>AVGOBroadcom Inc.</td>\n",
              "      <td>719.971 B USD</td>\n",
              "      <td>154.67 USD</td>\n",
              "      <td>+1.23%</td>\n",
              "      <td>12.828 M</td>\n",
              "      <td>0.57</td>\n",
              "      <td>66.54</td>\n",
              "      <td>2.32 USD</td>\n",
              "      <td>−26.54%</td>\n",
              "      <td>1.33%</td>\n",
              "      <td>Electronic technology</td>\n",
              "      <td>Buy</td>\n",
              "    </tr>\n",
              "  </tbody>\n",
              "</table>\n",
              "</div>"
            ],
            "text/plain": [
              "                             Symbol     Market cap       Price Change %  \\\n",
              "0                    AAPLApple Inc.    3.352 T USD  220.49 USD   −1.02%   \n",
              "1         MSFTMicrosoft Corporation     3.04 T USD  408.98 USD   −0.11%   \n",
              "2            NVDANVIDIA Corporation    2.648 T USD  107.94 USD   −0.06%   \n",
              "3                 GOOGAlphabet Inc.    1.936 T USD  157.92 USD   −0.44%   \n",
              "4                GOOGLAlphabet Inc.    1.933 T USD  156.47 USD   −0.57%   \n",
              "5              AMZNAmazon.com, Inc.    1.816 T USD  173.02 USD   −1.83%   \n",
              "6          METAMeta Platforms, Inc.      1.3 T USD  513.74 USD   +0.39%   \n",
              "7  BRK.BBerkshire Hathaway Inc. New    1.027 T USD  476.57 USD   −0.06%   \n",
              "8          LLYEli Lilly and Company  898.556 B USD  945.43 USD   −1.16%   \n",
              "9                 AVGOBroadcom Inc.  719.971 B USD  154.67 USD   +1.23%   \n",
              "\n",
              "      Volume  Rel Volume     P/E EPS dilTTM EPS dil growthTTM YoY  \\\n",
              "0   28.765 M        0.71   33.57   6.57 USD               +10.38%   \n",
              "1    8.947 M        0.52   34.66  11.80 USD               +21.86%   \n",
              "2  272.462 M        0.76   50.68   2.13 USD              +414.47%   \n",
              "3   10.445 M        0.64   22.65   6.97 USD               +47.48%   \n",
              "4   11.752 M        0.59   22.44   6.97 USD               +47.48%   \n",
              "5   17.416 M        0.56   41.45   4.17 USD              +231.92%   \n",
              "6    5.315 M        0.51   26.23  19.59 USD              +128.32%   \n",
              "7    3.162 M        0.72   15.16  31.44 USD               −21.04%   \n",
              "8    1.015 M        0.38  118.10   8.01 USD               +12.95%   \n",
              "9   12.828 M        0.57   66.54   2.32 USD               −26.54%   \n",
              "\n",
              "  Div yield %TTM                 Sector Analyst Rating  \n",
              "0          0.44%  Electronic technology            Buy  \n",
              "1          0.73%    Technology services     Strong buy  \n",
              "2          0.02%  Electronic technology     Strong buy  \n",
              "3          0.13%    Technology services            Buy  \n",
              "4          0.13%    Technology services            Buy  \n",
              "5          0.00%           Retail trade     Strong buy  \n",
              "6          0.20%    Technology services     Strong buy  \n",
              "7          0.00%                Finance            Buy  \n",
              "8          0.53%      Health technology            Buy  \n",
              "9          1.33%  Electronic technology            Buy  "
            ]
          },
          "execution_count": 46,
          "metadata": {},
          "output_type": "execute_result"
        }
      ],
      "source": [
        "# List of tickers (can be whatever order you want)\n",
        "tickers = [\"AAPL\", \"MSFT\", \"GOOGL\", \"AMZN\", \"NVDA\", \"META\", \"TSLA\", \"LLY\", \"AVGO\"]\n",
        "\n",
        "# Data for market cap\n",
        "df = pd.read_html('https://www.tradingview.com/symbols/SPX/components/')[0] # Returns a list of tables, the first is the one we want\n",
        "MARKET_CAP = get_market_cap(df, tickers)\n",
        "INVESTMENT_AMOUNT = 20000  # USD\n",
        "df.head(10)"
      ]
    },
    {
      "cell_type": "code",
      "execution_count": 47,
      "metadata": {},
      "outputs": [
        {
          "data": {
            "text/plain": [
              "{'AAPL': 3.352,\n",
              " 'MSFT': 3.04,\n",
              " 'GOOGL': 1.933,\n",
              " 'AMZN': 1.816,\n",
              " 'NVDA': 2.648,\n",
              " 'META': 1.3,\n",
              " 'TSLA': 0.705696,\n",
              " 'LLY': 0.898556,\n",
              " 'AVGO': 0.719971}"
            ]
          },
          "execution_count": 47,
          "metadata": {},
          "output_type": "execute_result"
        }
      ],
      "source": [
        "# Double-check that Market Cap is correct\n",
        "MARKET_CAP"
      ]
    },
    {
      "cell_type": "markdown",
      "metadata": {},
      "source": [
        "### Get current Price data"
      ]
    },
    {
      "cell_type": "code",
      "execution_count": 48,
      "metadata": {
        "colab": {
          "base_uri": "https://localhost:8080/"
        },
        "id": "QwoipQawGckj",
        "outputId": "a524d2b9-ff4d-45ae-dc56-de6b0658e018"
      },
      "outputs": [
        {
          "name": "stderr",
          "output_type": "stream",
          "text": [
            "[*********************100%***********************]  9 of 9 completed\n"
          ]
        }
      ],
      "source": [
        "# Fetch data for last week to ensure at least one value\n",
        "today = datetime.now()\n",
        "last_week = (today - timedelta(days=7)).strftime(\"%Y-%m-%d\")\n",
        "\n",
        "# Fetching data for the tickers, taking most recent price \n",
        "current_price = yf.download(tickers, start=last_week)[-1:]['Close']"
      ]
    },
    {
      "cell_type": "code",
      "execution_count": 49,
      "metadata": {},
      "outputs": [
        {
          "data": {
            "text/html": [
              "<div>\n",
              "<style scoped>\n",
              "    .dataframe tbody tr th:only-of-type {\n",
              "        vertical-align: middle;\n",
              "    }\n",
              "\n",
              "    .dataframe tbody tr th {\n",
              "        vertical-align: top;\n",
              "    }\n",
              "\n",
              "    .dataframe thead th {\n",
              "        text-align: right;\n",
              "    }\n",
              "</style>\n",
              "<table border=\"1\" class=\"dataframe\">\n",
              "  <thead>\n",
              "    <tr style=\"text-align: right;\">\n",
              "      <th>Ticker</th>\n",
              "      <th>AAPL</th>\n",
              "      <th>AMZN</th>\n",
              "      <th>AVGO</th>\n",
              "      <th>GOOGL</th>\n",
              "      <th>LLY</th>\n",
              "      <th>META</th>\n",
              "      <th>MSFT</th>\n",
              "      <th>NVDA</th>\n",
              "      <th>TSLA</th>\n",
              "    </tr>\n",
              "    <tr>\n",
              "      <th>Date</th>\n",
              "      <th></th>\n",
              "      <th></th>\n",
              "      <th></th>\n",
              "      <th></th>\n",
              "      <th></th>\n",
              "      <th></th>\n",
              "      <th></th>\n",
              "      <th></th>\n",
              "      <th></th>\n",
              "    </tr>\n",
              "  </thead>\n",
              "  <tbody>\n",
              "    <tr>\n",
              "      <th>2024-09-04 00:00:00+00:00</th>\n",
              "      <td>220.699997</td>\n",
              "      <td>172.985001</td>\n",
              "      <td>153.969803</td>\n",
              "      <td>156.335007</td>\n",
              "      <td>942.820007</td>\n",
              "      <td>515.092529</td>\n",
              "      <td>408.660004</td>\n",
              "      <td>106.966202</td>\n",
              "      <td>219.410004</td>\n",
              "    </tr>\n",
              "  </tbody>\n",
              "</table>\n",
              "</div>"
            ],
            "text/plain": [
              "Ticker                           AAPL        AMZN        AVGO       GOOGL  \\\n",
              "Date                                                                        \n",
              "2024-09-04 00:00:00+00:00  220.699997  172.985001  153.969803  156.335007   \n",
              "\n",
              "Ticker                            LLY        META        MSFT        NVDA  \\\n",
              "Date                                                                        \n",
              "2024-09-04 00:00:00+00:00  942.820007  515.092529  408.660004  106.966202   \n",
              "\n",
              "Ticker                           TSLA  \n",
              "Date                                   \n",
              "2024-09-04 00:00:00+00:00  219.410004  "
            ]
          },
          "execution_count": 49,
          "metadata": {},
          "output_type": "execute_result"
        }
      ],
      "source": [
        "current_price # check so there are no NaN values"
      ]
    },
    {
      "cell_type": "markdown",
      "metadata": {},
      "source": [
        "### Calculating weights for the stocks "
      ]
    },
    {
      "cell_type": "markdown",
      "metadata": {},
      "source": [
        "##### Calculation will be based on a stocks individual market cap vs total shared market cap"
      ]
    },
    {
      "cell_type": "code",
      "execution_count": 50,
      "metadata": {
        "colab": {
          "base_uri": "https://localhost:8080/"
        },
        "id": "GULkjPGiGc6d",
        "outputId": "ad2671cd-70e9-4cbb-f9ee-982a37be9222"
      },
      "outputs": [
        {
          "data": {
            "text/plain": [
              "{'AAPL': 0.20422558080152814,\n",
              " 'MSFT': 0.18521651719470333,\n",
              " 'GOOGL': 0.11777089728202683,\n",
              " 'AMZN': 0.11064249842946752,\n",
              " 'NVDA': 0.1613333347143337,\n",
              " 'META': 0.0792044316951034,\n",
              " 'TSLA': 0.04299557740731361,\n",
              " 'LLY': 0.054745859481711796,\n",
              " 'AVGO': 0.043865302993811764}"
            ]
          },
          "execution_count": 50,
          "metadata": {},
          "output_type": "execute_result"
        }
      ],
      "source": [
        "# Weights = individual market cap / total market cap\n",
        "tot_cap = sum(MARKET_CAP.values()) \n",
        "weights = {}\n",
        "for ticker in tickers:\n",
        "    weights[ticker] = MARKET_CAP[ticker] / tot_cap\n",
        "weights # show weights"
      ]
    },
    {
      "cell_type": "code",
      "execution_count": 51,
      "metadata": {},
      "outputs": [
        {
          "data": {
            "image/png": "[encoded data removed]",
            "text/plain": [
              "<Figure size 640x480 with 1 Axes>"
            ]
          },
          "metadata": {},
          "output_type": "display_data"
        }
      ],
      "source": [
        "# Display the portfolio weights in descending order\n",
        "weights_df = pd.DataFrame(data=[weights]).sort_values(by=0, axis=1, ascending=False) # by first row, sort along columns, descending order\n",
        "sns.barplot(data=weights_df)\n",
        "plt.title('Weight for Each Stock in Portfolio')\n",
        "plt.ylabel('Weight')\n",
        "plt.xlabel('Ticker')\n",
        "plt.show()"
      ]
    },
    {
      "cell_type": "markdown",
      "metadata": {},
      "source": [
        "### Individual investments "
      ]
    },
    {
      "cell_type": "markdown",
      "metadata": {},
      "source": [
        "##### Calculation based on weights and investment amount"
      ]
    },
    {
      "cell_type": "code",
      "execution_count": 52,
      "metadata": {
        "colab": {
          "base_uri": "https://localhost:8080/"
        },
        "id": "cSBbLvfDGbaY",
        "outputId": "f671b4da-4256-4f0d-b13f-6eab8df55c32"
      },
      "outputs": [
        {
          "data": {
            "text/plain": [
              "{'AAPL': 4084.511616030563,\n",
              " 'MSFT': 3704.3303438940666,\n",
              " 'GOOGL': 2355.417945640537,\n",
              " 'AMZN': 2212.8499685893503,\n",
              " 'NVDA': 3226.666694286674,\n",
              " 'META': 1584.0886339020678,\n",
              " 'TSLA': 859.9115481462721,\n",
              " 'LLY': 1094.917189634236,\n",
              " 'AVGO': 877.3060598762353}"
            ]
          },
          "execution_count": 52,
          "metadata": {},
          "output_type": "execute_result"
        }
      ],
      "source": [
        "# Weighted investment amounts = weights * investment amount\n",
        "weighted_invest_amount = {}\n",
        "for ticker in tickers:\n",
        "    weighted_invest_amount[ticker] = weights[ticker] * INVESTMENT_AMOUNT\n",
        "weighted_invest_amount # Show $USD to invest in each stock"
      ]
    },
    {
      "cell_type": "code",
      "execution_count": 53,
      "metadata": {
        "colab": {
          "base_uri": "https://localhost:8080/"
        },
        "id": "ycKAEKOcGiaC",
        "outputId": "6dd2f882-db94-4135-f739-2c400faebaaf"
      },
      "outputs": [
        {
          "data": {
            "text/html": [
              "<div>\n",
              "<style scoped>\n",
              "    .dataframe tbody tr th:only-of-type {\n",
              "        vertical-align: middle;\n",
              "    }\n",
              "\n",
              "    .dataframe tbody tr th {\n",
              "        vertical-align: top;\n",
              "    }\n",
              "\n",
              "    .dataframe thead th {\n",
              "        text-align: right;\n",
              "    }\n",
              "</style>\n",
              "<table border=\"1\" class=\"dataframe\">\n",
              "  <thead>\n",
              "    <tr style=\"text-align: right;\">\n",
              "      <th></th>\n",
              "      <th>AAPL</th>\n",
              "      <th>MSFT</th>\n",
              "      <th>GOOGL</th>\n",
              "      <th>AMZN</th>\n",
              "      <th>NVDA</th>\n",
              "      <th>META</th>\n",
              "      <th>TSLA</th>\n",
              "      <th>LLY</th>\n",
              "      <th>AVGO</th>\n",
              "    </tr>\n",
              "  </thead>\n",
              "  <tbody>\n",
              "    <tr>\n",
              "      <th>Amount:</th>\n",
              "      <td>18</td>\n",
              "      <td>9</td>\n",
              "      <td>15</td>\n",
              "      <td>12</td>\n",
              "      <td>30</td>\n",
              "      <td>3</td>\n",
              "      <td>3</td>\n",
              "      <td>1</td>\n",
              "      <td>5</td>\n",
              "    </tr>\n",
              "  </tbody>\n",
              "</table>\n",
              "</div>"
            ],
            "text/plain": [
              "         AAPL  MSFT  GOOGL  AMZN  NVDA  META  TSLA  LLY  AVGO\n",
              "Amount:    18     9     15    12    30     3     3    1     5"
            ]
          },
          "execution_count": 53,
          "metadata": {},
          "output_type": "execute_result"
        }
      ],
      "source": [
        "# Number of shares to buy for each stock & total price\n",
        "nshares = {}\n",
        "for ticker in tickers:\n",
        "    nshares[ticker] = int((weighted_invest_amount[ticker] / current_price[ticker].iloc[0]) // 1)\n",
        "    # We are only interested in buying whole numbers of shares, and not go over the budget\n",
        "    # Therefore, we round down to nearest integer by doing floor division by 1\n",
        "pd.DataFrame([nshares], index=['Amount:']) # see how many shares of each ticker you should have!"
      ]
    }
  ],
  "metadata": {
    "colab": {
      "provenance": []
    },
    "kernelspec": {
      "display_name": "Python 3",
      "name": "python3"
    },
    "language_info": {
      "codemirror_mode": {
        "name": "ipython",
        "version": 3
      },
      "file_extension": ".py",
      "mimetype": "text/x-python",
      "name": "python",
      "nbconvert_exporter": "python",
      "pygments_lexer": "ipython3",
      "version": "3.10.12"
    }
  },
  "nbformat": 4,
  "nbformat_minor": 0
}
