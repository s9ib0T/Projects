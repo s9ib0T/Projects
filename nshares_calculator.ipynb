{
  "cells": [
    {
      "cell_type": "markdown",
      "metadata": {},
      "source": [
        "## Num of shares calculator based on market cap "
      ]
    },
    {
      "cell_type": "markdown",
      "metadata": {},
      "source": [
        "##### Larger market cap = more weight in portfolio"
      ]
    },
    {
      "cell_type": "markdown",
      "metadata": {},
      "source": [
        "### Import Libraries"
      ]
    },
    {
      "cell_type": "code",
      "execution_count": 202,
      "metadata": {
        "colab": {
          "base_uri": "https://localhost:8080/"
        },
        "id": "HKCEUfSrGDuY",
        "outputId": "360c7f57-0886-4f71-da0a-046b9f7bc7ca"
      },
      "outputs": [],
      "source": [
        "import pandas as pd\n",
        "from datetime import datetime, timedelta\n",
        "import yfinance as yf\n",
        "import seaborn as sns\n",
        "import matplotlib.pyplot as plt"
      ]
    },
    {
      "cell_type": "markdown",
      "metadata": {},
      "source": [
        "### Get Market Cap for select stocks"
      ]
    },
    {
      "cell_type": "code",
      "execution_count": 203,
      "metadata": {},
      "outputs": [],
      "source": [
        "# Function to extract market cap for the selected tickers\n",
        "def get_market_cap(df, tickers):\n",
        "    market_caps = {}\n",
        "    magnitudes = {\n",
        "        'T': 1,\n",
        "        'B': 1000,\n",
        "        'M': 1000*1000\n",
        "    }\n",
        "    for ticker in tickers:\n",
        "        info = df[df['Symbol'].str.contains(ticker)]\n",
        "        if not info.empty:\n",
        "            info = info.iloc[0]['Market cap'].split('\\u202f') # splitting by narrow no-break space\n",
        "            magnitude = magnitudes[info[1][0]] \n",
        "            market_caps[ticker] = float(info[0]) / magnitude \n",
        "        else:\n",
        "            market_caps[ticker] = 0 # If ticker is not found in the data frame\n",
        "    return market_caps"
      ]
    },
    {
      "cell_type": "code",
      "execution_count": 204,
      "metadata": {
        "id": "GMAVTuPnVZkG"
      },
      "outputs": [
        {
          "data": {
            "text/html": [
              "<div>\n",
              "<style scoped>\n",
              "    .dataframe tbody tr th:only-of-type {\n",
              "        vertical-align: middle;\n",
              "    }\n",
              "\n",
              "    .dataframe tbody tr th {\n",
              "        vertical-align: top;\n",
              "    }\n",
              "\n",
              "    .dataframe thead th {\n",
              "        text-align: right;\n",
              "    }\n",
              "</style>\n",
              "<table border=\"1\" class=\"dataframe\">\n",
              "  <thead>\n",
              "    <tr style=\"text-align: right;\">\n",
              "      <th></th>\n",
              "      <th>Symbol</th>\n",
              "      <th>Market cap</th>\n",
              "      <th>Price</th>\n",
              "      <th>Change %</th>\n",
              "      <th>Volume</th>\n",
              "      <th>Rel Volume</th>\n",
              "      <th>P/E</th>\n",
              "      <th>EPS dilTTM</th>\n",
              "      <th>EPS dil growthTTM YoY</th>\n",
              "      <th>Div yield %TTM</th>\n",
              "      <th>Sector</th>\n",
              "      <th>Analyst Rating</th>\n",
              "    </tr>\n",
              "  </thead>\n",
              "  <tbody>\n",
              "    <tr>\n",
              "      <th>0</th>\n",
              "      <td>AAPLApple Inc.</td>\n",
              "      <td>3.347 T USD</td>\n",
              "      <td>220.17 USD</td>\n",
              "      <td>−1.17%</td>\n",
              "      <td>26.324 M</td>\n",
              "      <td>0.65</td>\n",
              "      <td>33.52</td>\n",
              "      <td>6.57 USD</td>\n",
              "      <td>+10.38%</td>\n",
              "      <td>0.44%</td>\n",
              "      <td>Electronic technology</td>\n",
              "      <td>Buy</td>\n",
              "    </tr>\n",
              "    <tr>\n",
              "      <th>1</th>\n",
              "      <td>MSFTMicrosoft Corporation</td>\n",
              "      <td>3.035 T USD</td>\n",
              "      <td>408.37 USD</td>\n",
              "      <td>−0.26%</td>\n",
              "      <td>8.181 M</td>\n",
              "      <td>0.47</td>\n",
              "      <td>34.60</td>\n",
              "      <td>11.80 USD</td>\n",
              "      <td>+21.86%</td>\n",
              "      <td>0.73%</td>\n",
              "      <td>Technology services</td>\n",
              "      <td>Strong buy</td>\n",
              "    </tr>\n",
              "    <tr>\n",
              "      <th>2</th>\n",
              "      <td>NVDANVIDIA Corporation</td>\n",
              "      <td>2.675 T USD</td>\n",
              "      <td>109.04 USD</td>\n",
              "      <td>+0.96%</td>\n",
              "      <td>251.756 M</td>\n",
              "      <td>0.70</td>\n",
              "      <td>51.19</td>\n",
              "      <td>2.13 USD</td>\n",
              "      <td>+414.47%</td>\n",
              "      <td>0.02%</td>\n",
              "      <td>Electronic technology</td>\n",
              "      <td>Strong buy</td>\n",
              "    </tr>\n",
              "    <tr>\n",
              "      <th>3</th>\n",
              "      <td>GOOGAlphabet Inc.</td>\n",
              "      <td>1.941 T USD</td>\n",
              "      <td>158.38 USD</td>\n",
              "      <td>−0.15%</td>\n",
              "      <td>9.293 M</td>\n",
              "      <td>0.57</td>\n",
              "      <td>22.72</td>\n",
              "      <td>6.97 USD</td>\n",
              "      <td>+47.48%</td>\n",
              "      <td>0.13%</td>\n",
              "      <td>Technology services</td>\n",
              "      <td>Buy</td>\n",
              "    </tr>\n",
              "    <tr>\n",
              "      <th>4</th>\n",
              "      <td>GOOGLAlphabet Inc.</td>\n",
              "      <td>1.938 T USD</td>\n",
              "      <td>156.89 USD</td>\n",
              "      <td>−0.30%</td>\n",
              "      <td>10.367 M</td>\n",
              "      <td>0.52</td>\n",
              "      <td>22.50</td>\n",
              "      <td>6.97 USD</td>\n",
              "      <td>+47.48%</td>\n",
              "      <td>0.13%</td>\n",
              "      <td>Technology services</td>\n",
              "      <td>Buy</td>\n",
              "    </tr>\n",
              "    <tr>\n",
              "      <th>5</th>\n",
              "      <td>AMZNAmazon.com, Inc.</td>\n",
              "      <td>1.82 T USD</td>\n",
              "      <td>173.44 USD</td>\n",
              "      <td>−1.59%</td>\n",
              "      <td>15.236 M</td>\n",
              "      <td>0.49</td>\n",
              "      <td>41.55</td>\n",
              "      <td>4.17 USD</td>\n",
              "      <td>+231.92%</td>\n",
              "      <td>0.00%</td>\n",
              "      <td>Retail trade</td>\n",
              "      <td>Strong buy</td>\n",
              "    </tr>\n",
              "    <tr>\n",
              "      <th>6</th>\n",
              "      <td>METAMeta Platforms, Inc.</td>\n",
              "      <td>1.303 T USD</td>\n",
              "      <td>515.09 USD</td>\n",
              "      <td>+0.65%</td>\n",
              "      <td>4.915 M</td>\n",
              "      <td>0.48</td>\n",
              "      <td>26.30</td>\n",
              "      <td>19.59 USD</td>\n",
              "      <td>+128.32%</td>\n",
              "      <td>0.20%</td>\n",
              "      <td>Technology services</td>\n",
              "      <td>Strong buy</td>\n",
              "    </tr>\n",
              "    <tr>\n",
              "      <th>7</th>\n",
              "      <td>BRK.BBerkshire Hathaway Inc. New</td>\n",
              "      <td>1.023 T USD</td>\n",
              "      <td>474.69 USD</td>\n",
              "      <td>−0.45%</td>\n",
              "      <td>2.855 M</td>\n",
              "      <td>0.65</td>\n",
              "      <td>15.10</td>\n",
              "      <td>31.44 USD</td>\n",
              "      <td>−21.04%</td>\n",
              "      <td>0.00%</td>\n",
              "      <td>Finance</td>\n",
              "      <td>Buy</td>\n",
              "    </tr>\n",
              "    <tr>\n",
              "      <th>8</th>\n",
              "      <td>LLYEli Lilly and Company</td>\n",
              "      <td>900.623 B USD</td>\n",
              "      <td>947.60 USD</td>\n",
              "      <td>−0.93%</td>\n",
              "      <td>920.883 K</td>\n",
              "      <td>0.35</td>\n",
              "      <td>118.37</td>\n",
              "      <td>8.01 USD</td>\n",
              "      <td>+12.95%</td>\n",
              "      <td>0.53%</td>\n",
              "      <td>Health technology</td>\n",
              "      <td>Buy</td>\n",
              "    </tr>\n",
              "    <tr>\n",
              "      <th>9</th>\n",
              "      <td>AVGOBroadcom Inc.</td>\n",
              "      <td>721.879 B USD</td>\n",
              "      <td>155.08 USD</td>\n",
              "      <td>+1.50%</td>\n",
              "      <td>11.746 M</td>\n",
              "      <td>0.53</td>\n",
              "      <td>66.72</td>\n",
              "      <td>2.32 USD</td>\n",
              "      <td>−26.54%</td>\n",
              "      <td>1.33%</td>\n",
              "      <td>Electronic technology</td>\n",
              "      <td>Buy</td>\n",
              "    </tr>\n",
              "  </tbody>\n",
              "</table>\n",
              "</div>"
            ],
            "text/plain": [
              "                             Symbol     Market cap       Price Change %  \\\n",
              "0                    AAPLApple Inc.    3.347 T USD  220.17 USD   −1.17%   \n",
              "1         MSFTMicrosoft Corporation    3.035 T USD  408.37 USD   −0.26%   \n",
              "2            NVDANVIDIA Corporation    2.675 T USD  109.04 USD   +0.96%   \n",
              "3                 GOOGAlphabet Inc.    1.941 T USD  158.38 USD   −0.15%   \n",
              "4                GOOGLAlphabet Inc.    1.938 T USD  156.89 USD   −0.30%   \n",
              "5              AMZNAmazon.com, Inc.     1.82 T USD  173.44 USD   −1.59%   \n",
              "6          METAMeta Platforms, Inc.    1.303 T USD  515.09 USD   +0.65%   \n",
              "7  BRK.BBerkshire Hathaway Inc. New    1.023 T USD  474.69 USD   −0.45%   \n",
              "8          LLYEli Lilly and Company  900.623 B USD  947.60 USD   −0.93%   \n",
              "9                 AVGOBroadcom Inc.  721.879 B USD  155.08 USD   +1.50%   \n",
              "\n",
              "      Volume  Rel Volume     P/E EPS dilTTM EPS dil growthTTM YoY  \\\n",
              "0   26.324 M        0.65   33.52   6.57 USD               +10.38%   \n",
              "1    8.181 M        0.47   34.60  11.80 USD               +21.86%   \n",
              "2  251.756 M        0.70   51.19   2.13 USD              +414.47%   \n",
              "3    9.293 M        0.57   22.72   6.97 USD               +47.48%   \n",
              "4   10.367 M        0.52   22.50   6.97 USD               +47.48%   \n",
              "5   15.236 M        0.49   41.55   4.17 USD              +231.92%   \n",
              "6    4.915 M        0.48   26.30  19.59 USD              +128.32%   \n",
              "7    2.855 M        0.65   15.10  31.44 USD               −21.04%   \n",
              "8  920.883 K        0.35  118.37   8.01 USD               +12.95%   \n",
              "9   11.746 M        0.53   66.72   2.32 USD               −26.54%   \n",
              "\n",
              "  Div yield %TTM                 Sector Analyst Rating  \n",
              "0          0.44%  Electronic technology            Buy  \n",
              "1          0.73%    Technology services     Strong buy  \n",
              "2          0.02%  Electronic technology     Strong buy  \n",
              "3          0.13%    Technology services            Buy  \n",
              "4          0.13%    Technology services            Buy  \n",
              "5          0.00%           Retail trade     Strong buy  \n",
              "6          0.20%    Technology services     Strong buy  \n",
              "7          0.00%                Finance            Buy  \n",
              "8          0.53%      Health technology            Buy  \n",
              "9          1.33%  Electronic technology            Buy  "
            ]
          },
          "execution_count": 204,
          "metadata": {},
          "output_type": "execute_result"
        }
      ],
      "source": [
        "# List of tickers (can be whatever order you want)\n",
        "tickers = [\"AAPL\", \"MSFT\", \"GOOGL\", \"AMZN\", \"NVDA\", \"META\", \"TSLA\", \"LLY\", \"AVGO\"]\n",
        "\n",
        "# Data for market cap\n",
        "df = pd.read_html('https://www.tradingview.com/symbols/SPX/components/')[0] # Returns a list of tables, the first is the one we want\n",
        "MARKET_CAP = get_market_cap(df, tickers)\n",
        "INVESTMENT_AMOUNT = 20000  # USD\n",
        "df.head(10)"
      ]
    },
    {
      "cell_type": "code",
      "execution_count": 205,
      "metadata": {},
      "outputs": [
        {
          "data": {
            "text/plain": [
              "{'AAPL': 3.347,\n",
              " 'MSFT': 3.035,\n",
              " 'GOOGL': 1.938,\n",
              " 'AMZN': 1.82,\n",
              " 'NVDA': 2.675,\n",
              " 'META': 1.303,\n",
              " 'TSLA': 0.7056319999999999,\n",
              " 'LLY': 0.9006230000000001,\n",
              " 'AVGO': 0.721879}"
            ]
          },
          "execution_count": 205,
          "metadata": {},
          "output_type": "execute_result"
        }
      ],
      "source": [
        "# Double-check that Market Cap is correct\n",
        "MARKET_CAP"
      ]
    },
    {
      "cell_type": "markdown",
      "metadata": {},
      "source": [
        "### Get current Price data"
      ]
    },
    {
      "cell_type": "code",
      "execution_count": 206,
      "metadata": {
        "colab": {
          "base_uri": "https://localhost:8080/"
        },
        "id": "QwoipQawGckj",
        "outputId": "a524d2b9-ff4d-45ae-dc56-de6b0658e018"
      },
      "outputs": [
        {
          "name": "stderr",
          "output_type": "stream",
          "text": [
            "[*********************100%%**********************]  9 of 9 completed\n"
          ]
        }
      ],
      "source": [
        "# Fetch data for last week to ensure at least one value\n",
        "today = datetime.now()\n",
        "last_week = (today - timedelta(days=7)).strftime(\"%Y-%m-%d\")\n",
        "\n",
        "# Fetching data for the tickers, taking most recent price \n",
        "current_price = yf.download(tickers, start=last_week)[-1:]['Close']"
      ]
    },
    {
      "cell_type": "code",
      "execution_count": 207,
      "metadata": {},
      "outputs": [
        {
          "data": {
            "text/html": [
              "<div>\n",
              "<style scoped>\n",
              "    .dataframe tbody tr th:only-of-type {\n",
              "        vertical-align: middle;\n",
              "    }\n",
              "\n",
              "    .dataframe tbody tr th {\n",
              "        vertical-align: top;\n",
              "    }\n",
              "\n",
              "    .dataframe thead th {\n",
              "        text-align: right;\n",
              "    }\n",
              "</style>\n",
              "<table border=\"1\" class=\"dataframe\">\n",
              "  <thead>\n",
              "    <tr style=\"text-align: right;\">\n",
              "      <th>Ticker</th>\n",
              "      <th>AAPL</th>\n",
              "      <th>AMZN</th>\n",
              "      <th>AVGO</th>\n",
              "      <th>GOOGL</th>\n",
              "      <th>LLY</th>\n",
              "      <th>META</th>\n",
              "      <th>MSFT</th>\n",
              "      <th>NVDA</th>\n",
              "      <th>TSLA</th>\n",
              "    </tr>\n",
              "    <tr>\n",
              "      <th>Date</th>\n",
              "      <th></th>\n",
              "      <th></th>\n",
              "      <th></th>\n",
              "      <th></th>\n",
              "      <th></th>\n",
              "      <th></th>\n",
              "      <th></th>\n",
              "      <th></th>\n",
              "      <th></th>\n",
              "    </tr>\n",
              "  </thead>\n",
              "  <tbody>\n",
              "    <tr>\n",
              "      <th>2024-09-04</th>\n",
              "      <td>220.75</td>\n",
              "      <td>173.159195</td>\n",
              "      <td>155.149994</td>\n",
              "      <td>156.419998</td>\n",
              "      <td>947.679993</td>\n",
              "      <td>515.0</td>\n",
              "      <td>409.049988</td>\n",
              "      <td>109.140099</td>\n",
              "      <td>220.505005</td>\n",
              "    </tr>\n",
              "  </tbody>\n",
              "</table>\n",
              "</div>"
            ],
            "text/plain": [
              "Ticker        AAPL        AMZN        AVGO       GOOGL         LLY   META  \\\n",
              "Date                                                                        \n",
              "2024-09-04  220.75  173.159195  155.149994  156.419998  947.679993  515.0   \n",
              "\n",
              "Ticker            MSFT        NVDA        TSLA  \n",
              "Date                                            \n",
              "2024-09-04  409.049988  109.140099  220.505005  "
            ]
          },
          "execution_count": 207,
          "metadata": {},
          "output_type": "execute_result"
        }
      ],
      "source": [
        "current_price # check so there are no NaN values"
      ]
    },
    {
      "cell_type": "markdown",
      "metadata": {},
      "source": [
        "### Calculating weights for the stocks "
      ]
    },
    {
      "cell_type": "markdown",
      "metadata": {},
      "source": [
        "##### Calculation will be based on a stocks individual market cap vs total shared market cap"
      ]
    },
    {
      "cell_type": "code",
      "execution_count": 208,
      "metadata": {
        "colab": {
          "base_uri": "https://localhost:8080/"
        },
        "id": "GULkjPGiGc6d",
        "outputId": "ad2671cd-70e9-4cbb-f9ee-982a37be9222"
      },
      "outputs": [
        {
          "data": {
            "text/plain": [
              "{'AAPL': 0.20351287421104558,\n",
              " 'MSFT': 0.18454185038258838,\n",
              " 'GOOGL': 0.11783924416522447,\n",
              " 'AMZN': 0.11066430566600029,\n",
              " 'NVDA': 0.16265220750359932,\n",
              " 'META': 0.07922834630922987,\n",
              " 'TSLA': 0.042905645788852254,\n",
              " 'LLY': 0.05476198844056603,\n",
              " 'AVGO': 0.04389353753289375}"
            ]
          },
          "execution_count": 208,
          "metadata": {},
          "output_type": "execute_result"
        }
      ],
      "source": [
        "# Weights = individual market cap / total market cap\n",
        "tot_cap = sum(MARKET_CAP.values()) \n",
        "weights = {}\n",
        "for ticker in tickers:\n",
        "    weights[ticker] = MARKET_CAP[ticker] / tot_cap\n",
        "weights # show weights"
      ]
    },
    {
      "cell_type": "code",
      "execution_count": 209,
      "metadata": {},
      "outputs": [
        {
          "data": {
            "image/png": "[encoded data removed]",
            "text/plain": [
              "<Figure size 640x480 with 1 Axes>"
            ]
          },
          "metadata": {},
          "output_type": "display_data"
        }
      ],
      "source": [
        "# Display the portfolio weights in descending order\n",
        "weights_df = pd.DataFrame(data=[weights]).sort_values(by=0, axis=1, ascending=False) # by first row, sort along columns, descending order\n",
        "sns.barplot(data=weights_df)\n",
        "plt.title('Weight for Each Stock in Portfolio')\n",
        "plt.ylabel('Weight')\n",
        "plt.xlabel('Ticker')\n",
        "plt.show()"
      ]
    },
    {
      "cell_type": "markdown",
      "metadata": {},
      "source": [
        "### Individual investments "
      ]
    },
    {
      "cell_type": "markdown",
      "metadata": {},
      "source": [
        "##### Calculation based on weights and investment amount"
      ]
    },
    {
      "cell_type": "code",
      "execution_count": 210,
      "metadata": {
        "colab": {
          "base_uri": "https://localhost:8080/"
        },
        "id": "cSBbLvfDGbaY",
        "outputId": "f671b4da-4256-4f0d-b13f-6eab8df55c32"
      },
      "outputs": [
        {
          "data": {
            "text/plain": [
              "{'AAPL': 4070.2574842209115,\n",
              " 'MSFT': 3690.8370076517676,\n",
              " 'GOOGL': 2356.7848833044895,\n",
              " 'AMZN': 2213.286113320006,\n",
              " 'NVDA': 3253.044150071986,\n",
              " 'META': 1584.5669261845974,\n",
              " 'TSLA': 858.112915777045,\n",
              " 'LLY': 1095.2397688113206,\n",
              " 'AVGO': 877.8707506578751}"
            ]
          },
          "execution_count": 210,
          "metadata": {},
          "output_type": "execute_result"
        }
      ],
      "source": [
        "# Weighted investment amounts = weights * investment amount\n",
        "weighted_invest_amount = {}\n",
        "for ticker in tickers:\n",
        "    weighted_invest_amount[ticker] = weights[ticker] * INVESTMENT_AMOUNT\n",
        "weighted_invest_amount # Show $USD to invest in each stock"
      ]
    },
    {
      "cell_type": "code",
      "execution_count": 211,
      "metadata": {
        "colab": {
          "base_uri": "https://localhost:8080/"
        },
        "id": "ycKAEKOcGiaC",
        "outputId": "6dd2f882-db94-4135-f739-2c400faebaaf"
      },
      "outputs": [
        {
          "data": {
            "text/html": [
              "<div>\n",
              "<style scoped>\n",
              "    .dataframe tbody tr th:only-of-type {\n",
              "        vertical-align: middle;\n",
              "    }\n",
              "\n",
              "    .dataframe tbody tr th {\n",
              "        vertical-align: top;\n",
              "    }\n",
              "\n",
              "    .dataframe thead th {\n",
              "        text-align: right;\n",
              "    }\n",
              "</style>\n",
              "<table border=\"1\" class=\"dataframe\">\n",
              "  <thead>\n",
              "    <tr style=\"text-align: right;\">\n",
              "      <th></th>\n",
              "      <th>AAPL</th>\n",
              "      <th>MSFT</th>\n",
              "      <th>GOOGL</th>\n",
              "      <th>AMZN</th>\n",
              "      <th>NVDA</th>\n",
              "      <th>META</th>\n",
              "      <th>TSLA</th>\n",
              "      <th>LLY</th>\n",
              "      <th>AVGO</th>\n",
              "    </tr>\n",
              "  </thead>\n",
              "  <tbody>\n",
              "    <tr>\n",
              "      <th>Amount:</th>\n",
              "      <td>18</td>\n",
              "      <td>9</td>\n",
              "      <td>15</td>\n",
              "      <td>12</td>\n",
              "      <td>29</td>\n",
              "      <td>3</td>\n",
              "      <td>3</td>\n",
              "      <td>1</td>\n",
              "      <td>5</td>\n",
              "    </tr>\n",
              "  </tbody>\n",
              "</table>\n",
              "</div>"
            ],
            "text/plain": [
              "         AAPL  MSFT  GOOGL  AMZN  NVDA  META  TSLA  LLY  AVGO\n",
              "Amount:    18     9     15    12    29     3     3    1     5"
            ]
          },
          "execution_count": 211,
          "metadata": {},
          "output_type": "execute_result"
        }
      ],
      "source": [
        "# Number of shares to buy for each stock & total price\n",
        "nshares = {}\n",
        "for ticker in tickers:\n",
        "    nshares[ticker] = int((weighted_invest_amount[ticker] / current_price[ticker].iloc[0]) // 1)\n",
        "    # We are only interested in buying whole numbers of shares, and not go over the budget\n",
        "    # Therefore, we round down to nearest integer by doing floor division by 1\n",
        "pd.DataFrame([nshares], index=['Amount:']) # see how many shares of each ticker you should have!"
      ]
    }
  ],
  "metadata": {
    "colab": {
      "provenance": []
    },
    "kernelspec": {
      "display_name": "Python 3",
      "name": "python3"
    },
    "language_info": {
      "codemirror_mode": {
        "name": "ipython",
        "version": 3
      },
      "file_extension": ".py",
      "mimetype": "text/x-python",
      "name": "python",
      "nbconvert_exporter": "python",
      "pygments_lexer": "ipython3",
      "version": "3.11.4"
    }
  },
  "nbformat": 4,
  "nbformat_minor": 0
}
